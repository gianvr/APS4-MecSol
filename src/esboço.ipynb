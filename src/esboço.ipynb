{
  "cells": [
    {
      "cell_type": "code",
      "execution_count": 4,
      "metadata": {
        "id": "HiHykeCJV-Uf"
      },
      "outputs": [],
      "source": [
        "import numpy as np\n",
        "import xlrd\n",
        "import matplotlib as mpl\n",
        "import matplotlib.pyplot as plt"
      ]
    },
    {
      "cell_type": "code",
      "execution_count": null,
      "metadata": {
        "colab": {
          "base_uri": "https://localhost:8080/",
          "height": 90
        },
        "id": "w0blrxhGW3xw",
        "outputId": "87623609-8f21-4db3-82f6-844c3c689388"
      },
      "outputs": [
        {
          "data": {
            "text/html": [
              "\n",
              "     <input type=\"file\" id=\"files-03a762ac-2142-48c0-a00e-ed26bb4131da\" name=\"files[]\" multiple disabled\n",
              "        style=\"border:none\" />\n",
              "     <output id=\"result-03a762ac-2142-48c0-a00e-ed26bb4131da\">\n",
              "      Upload widget is only available when the cell has been executed in the\n",
              "      current browser session. Please rerun this cell to enable.\n",
              "      </output>\n",
              "      <script>// Copyright 2017 Google LLC\n",
              "//\n",
              "// Licensed under the Apache License, Version 2.0 (the \"License\");\n",
              "// you may not use this file except in compliance with the License.\n",
              "// You may obtain a copy of the License at\n",
              "//\n",
              "//      http://www.apache.org/licenses/LICENSE-2.0\n",
              "//\n",
              "// Unless required by applicable law or agreed to in writing, software\n",
              "// distributed under the License is distributed on an \"AS IS\" BASIS,\n",
              "// WITHOUT WARRANTIES OR CONDITIONS OF ANY KIND, either express or implied.\n",
              "// See the License for the specific language governing permissions and\n",
              "// limitations under the License.\n",
              "\n",
              "/**\n",
              " * @fileoverview Helpers for google.colab Python module.\n",
              " */\n",
              "(function(scope) {\n",
              "function span(text, styleAttributes = {}) {\n",
              "  const element = document.createElement('span');\n",
              "  element.textContent = text;\n",
              "  for (const key of Object.keys(styleAttributes)) {\n",
              "    element.style[key] = styleAttributes[key];\n",
              "  }\n",
              "  return element;\n",
              "}\n",
              "\n",
              "// Max number of bytes which will be uploaded at a time.\n",
              "const MAX_PAYLOAD_SIZE = 100 * 1024;\n",
              "\n",
              "function _uploadFiles(inputId, outputId) {\n",
              "  const steps = uploadFilesStep(inputId, outputId);\n",
              "  const outputElement = document.getElementById(outputId);\n",
              "  // Cache steps on the outputElement to make it available for the next call\n",
              "  // to uploadFilesContinue from Python.\n",
              "  outputElement.steps = steps;\n",
              "\n",
              "  return _uploadFilesContinue(outputId);\n",
              "}\n",
              "\n",
              "// This is roughly an async generator (not supported in the browser yet),\n",
              "// where there are multiple asynchronous steps and the Python side is going\n",
              "// to poll for completion of each step.\n",
              "// This uses a Promise to block the python side on completion of each step,\n",
              "// then passes the result of the previous step as the input to the next step.\n",
              "function _uploadFilesContinue(outputId) {\n",
              "  const outputElement = document.getElementById(outputId);\n",
              "  const steps = outputElement.steps;\n",
              "\n",
              "  const next = steps.next(outputElement.lastPromiseValue);\n",
              "  return Promise.resolve(next.value.promise).then((value) => {\n",
              "    // Cache the last promise value to make it available to the next\n",
              "    // step of the generator.\n",
              "    outputElement.lastPromiseValue = value;\n",
              "    return next.value.response;\n",
              "  });\n",
              "}\n",
              "\n",
              "/**\n",
              " * Generator function which is called between each async step of the upload\n",
              " * process.\n",
              " * @param {string} inputId Element ID of the input file picker element.\n",
              " * @param {string} outputId Element ID of the output display.\n",
              " * @return {!Iterable<!Object>} Iterable of next steps.\n",
              " */\n",
              "function* uploadFilesStep(inputId, outputId) {\n",
              "  const inputElement = document.getElementById(inputId);\n",
              "  inputElement.disabled = false;\n",
              "\n",
              "  const outputElement = document.getElementById(outputId);\n",
              "  outputElement.innerHTML = '';\n",
              "\n",
              "  const pickedPromise = new Promise((resolve) => {\n",
              "    inputElement.addEventListener('change', (e) => {\n",
              "      resolve(e.target.files);\n",
              "    });\n",
              "  });\n",
              "\n",
              "  const cancel = document.createElement('button');\n",
              "  inputElement.parentElement.appendChild(cancel);\n",
              "  cancel.textContent = 'Cancel upload';\n",
              "  const cancelPromise = new Promise((resolve) => {\n",
              "    cancel.onclick = () => {\n",
              "      resolve(null);\n",
              "    };\n",
              "  });\n",
              "\n",
              "  // Wait for the user to pick the files.\n",
              "  const files = yield {\n",
              "    promise: Promise.race([pickedPromise, cancelPromise]),\n",
              "    response: {\n",
              "      action: 'starting',\n",
              "    }\n",
              "  };\n",
              "\n",
              "  cancel.remove();\n",
              "\n",
              "  // Disable the input element since further picks are not allowed.\n",
              "  inputElement.disabled = true;\n",
              "\n",
              "  if (!files) {\n",
              "    return {\n",
              "      response: {\n",
              "        action: 'complete',\n",
              "      }\n",
              "    };\n",
              "  }\n",
              "\n",
              "  for (const file of files) {\n",
              "    const li = document.createElement('li');\n",
              "    li.append(span(file.name, {fontWeight: 'bold'}));\n",
              "    li.append(span(\n",
              "        `(${file.type || 'n/a'}) - ${file.size} bytes, ` +\n",
              "        `last modified: ${\n",
              "            file.lastModifiedDate ? file.lastModifiedDate.toLocaleDateString() :\n",
              "                                    'n/a'} - `));\n",
              "    const percent = span('0% done');\n",
              "    li.appendChild(percent);\n",
              "\n",
              "    outputElement.appendChild(li);\n",
              "\n",
              "    const fileDataPromise = new Promise((resolve) => {\n",
              "      const reader = new FileReader();\n",
              "      reader.onload = (e) => {\n",
              "        resolve(e.target.result);\n",
              "      };\n",
              "      reader.readAsArrayBuffer(file);\n",
              "    });\n",
              "    // Wait for the data to be ready.\n",
              "    let fileData = yield {\n",
              "      promise: fileDataPromise,\n",
              "      response: {\n",
              "        action: 'continue',\n",
              "      }\n",
              "    };\n",
              "\n",
              "    // Use a chunked sending to avoid message size limits. See b/62115660.\n",
              "    let position = 0;\n",
              "    do {\n",
              "      const length = Math.min(fileData.byteLength - position, MAX_PAYLOAD_SIZE);\n",
              "      const chunk = new Uint8Array(fileData, position, length);\n",
              "      position += length;\n",
              "\n",
              "      const base64 = btoa(String.fromCharCode.apply(null, chunk));\n",
              "      yield {\n",
              "        response: {\n",
              "          action: 'append',\n",
              "          file: file.name,\n",
              "          data: base64,\n",
              "        },\n",
              "      };\n",
              "\n",
              "      let percentDone = fileData.byteLength === 0 ?\n",
              "          100 :\n",
              "          Math.round((position / fileData.byteLength) * 100);\n",
              "      percent.textContent = `${percentDone}% done`;\n",
              "\n",
              "    } while (position < fileData.byteLength);\n",
              "  }\n",
              "\n",
              "  // All done.\n",
              "  yield {\n",
              "    response: {\n",
              "      action: 'complete',\n",
              "    }\n",
              "  };\n",
              "}\n",
              "\n",
              "scope.google = scope.google || {};\n",
              "scope.google.colab = scope.google.colab || {};\n",
              "scope.google.colab._files = {\n",
              "  _uploadFiles,\n",
              "  _uploadFilesContinue,\n",
              "};\n",
              "})(self);\n",
              "</script> "
            ],
            "text/plain": [
              "<IPython.core.display.HTML object>"
            ]
          },
          "metadata": {},
          "output_type": "display_data"
        },
        {
          "name": "stdout",
          "output_type": "stream",
          "text": [
            "Saving entrada.xlsx to entrada.xlsx\n"
          ]
        }
      ],
      "source": [
        "from google.colab import files \n",
        "uploaded = files.upload()\n"
      ]
    },
    {
      "cell_type": "code",
      "execution_count": null,
      "metadata": {
        "colab": {
          "base_uri": "https://localhost:8080/",
          "height": 90
        },
        "id": "ZpFD9NMwYyZU",
        "outputId": "d2778d79-e605-4c1f-de5b-ea3436de2ef3"
      },
      "outputs": [
        {
          "data": {
            "text/html": [
              "\n",
              "     <input type=\"file\" id=\"files-bf39bf2e-0c7b-4b89-8d75-421d431a658c\" name=\"files[]\" multiple disabled\n",
              "        style=\"border:none\" />\n",
              "     <output id=\"result-bf39bf2e-0c7b-4b89-8d75-421d431a658c\">\n",
              "      Upload widget is only available when the cell has been executed in the\n",
              "      current browser session. Please rerun this cell to enable.\n",
              "      </output>\n",
              "      <script>// Copyright 2017 Google LLC\n",
              "//\n",
              "// Licensed under the Apache License, Version 2.0 (the \"License\");\n",
              "// you may not use this file except in compliance with the License.\n",
              "// You may obtain a copy of the License at\n",
              "//\n",
              "//      http://www.apache.org/licenses/LICENSE-2.0\n",
              "//\n",
              "// Unless required by applicable law or agreed to in writing, software\n",
              "// distributed under the License is distributed on an \"AS IS\" BASIS,\n",
              "// WITHOUT WARRANTIES OR CONDITIONS OF ANY KIND, either express or implied.\n",
              "// See the License for the specific language governing permissions and\n",
              "// limitations under the License.\n",
              "\n",
              "/**\n",
              " * @fileoverview Helpers for google.colab Python module.\n",
              " */\n",
              "(function(scope) {\n",
              "function span(text, styleAttributes = {}) {\n",
              "  const element = document.createElement('span');\n",
              "  element.textContent = text;\n",
              "  for (const key of Object.keys(styleAttributes)) {\n",
              "    element.style[key] = styleAttributes[key];\n",
              "  }\n",
              "  return element;\n",
              "}\n",
              "\n",
              "// Max number of bytes which will be uploaded at a time.\n",
              "const MAX_PAYLOAD_SIZE = 100 * 1024;\n",
              "\n",
              "function _uploadFiles(inputId, outputId) {\n",
              "  const steps = uploadFilesStep(inputId, outputId);\n",
              "  const outputElement = document.getElementById(outputId);\n",
              "  // Cache steps on the outputElement to make it available for the next call\n",
              "  // to uploadFilesContinue from Python.\n",
              "  outputElement.steps = steps;\n",
              "\n",
              "  return _uploadFilesContinue(outputId);\n",
              "}\n",
              "\n",
              "// This is roughly an async generator (not supported in the browser yet),\n",
              "// where there are multiple asynchronous steps and the Python side is going\n",
              "// to poll for completion of each step.\n",
              "// This uses a Promise to block the python side on completion of each step,\n",
              "// then passes the result of the previous step as the input to the next step.\n",
              "function _uploadFilesContinue(outputId) {\n",
              "  const outputElement = document.getElementById(outputId);\n",
              "  const steps = outputElement.steps;\n",
              "\n",
              "  const next = steps.next(outputElement.lastPromiseValue);\n",
              "  return Promise.resolve(next.value.promise).then((value) => {\n",
              "    // Cache the last promise value to make it available to the next\n",
              "    // step of the generator.\n",
              "    outputElement.lastPromiseValue = value;\n",
              "    return next.value.response;\n",
              "  });\n",
              "}\n",
              "\n",
              "/**\n",
              " * Generator function which is called between each async step of the upload\n",
              " * process.\n",
              " * @param {string} inputId Element ID of the input file picker element.\n",
              " * @param {string} outputId Element ID of the output display.\n",
              " * @return {!Iterable<!Object>} Iterable of next steps.\n",
              " */\n",
              "function* uploadFilesStep(inputId, outputId) {\n",
              "  const inputElement = document.getElementById(inputId);\n",
              "  inputElement.disabled = false;\n",
              "\n",
              "  const outputElement = document.getElementById(outputId);\n",
              "  outputElement.innerHTML = '';\n",
              "\n",
              "  const pickedPromise = new Promise((resolve) => {\n",
              "    inputElement.addEventListener('change', (e) => {\n",
              "      resolve(e.target.files);\n",
              "    });\n",
              "  });\n",
              "\n",
              "  const cancel = document.createElement('button');\n",
              "  inputElement.parentElement.appendChild(cancel);\n",
              "  cancel.textContent = 'Cancel upload';\n",
              "  const cancelPromise = new Promise((resolve) => {\n",
              "    cancel.onclick = () => {\n",
              "      resolve(null);\n",
              "    };\n",
              "  });\n",
              "\n",
              "  // Wait for the user to pick the files.\n",
              "  const files = yield {\n",
              "    promise: Promise.race([pickedPromise, cancelPromise]),\n",
              "    response: {\n",
              "      action: 'starting',\n",
              "    }\n",
              "  };\n",
              "\n",
              "  cancel.remove();\n",
              "\n",
              "  // Disable the input element since further picks are not allowed.\n",
              "  inputElement.disabled = true;\n",
              "\n",
              "  if (!files) {\n",
              "    return {\n",
              "      response: {\n",
              "        action: 'complete',\n",
              "      }\n",
              "    };\n",
              "  }\n",
              "\n",
              "  for (const file of files) {\n",
              "    const li = document.createElement('li');\n",
              "    li.append(span(file.name, {fontWeight: 'bold'}));\n",
              "    li.append(span(\n",
              "        `(${file.type || 'n/a'}) - ${file.size} bytes, ` +\n",
              "        `last modified: ${\n",
              "            file.lastModifiedDate ? file.lastModifiedDate.toLocaleDateString() :\n",
              "                                    'n/a'} - `));\n",
              "    const percent = span('0% done');\n",
              "    li.appendChild(percent);\n",
              "\n",
              "    outputElement.appendChild(li);\n",
              "\n",
              "    const fileDataPromise = new Promise((resolve) => {\n",
              "      const reader = new FileReader();\n",
              "      reader.onload = (e) => {\n",
              "        resolve(e.target.result);\n",
              "      };\n",
              "      reader.readAsArrayBuffer(file);\n",
              "    });\n",
              "    // Wait for the data to be ready.\n",
              "    let fileData = yield {\n",
              "      promise: fileDataPromise,\n",
              "      response: {\n",
              "        action: 'continue',\n",
              "      }\n",
              "    };\n",
              "\n",
              "    // Use a chunked sending to avoid message size limits. See b/62115660.\n",
              "    let position = 0;\n",
              "    do {\n",
              "      const length = Math.min(fileData.byteLength - position, MAX_PAYLOAD_SIZE);\n",
              "      const chunk = new Uint8Array(fileData, position, length);\n",
              "      position += length;\n",
              "\n",
              "      const base64 = btoa(String.fromCharCode.apply(null, chunk));\n",
              "      yield {\n",
              "        response: {\n",
              "          action: 'append',\n",
              "          file: file.name,\n",
              "          data: base64,\n",
              "        },\n",
              "      };\n",
              "\n",
              "      let percentDone = fileData.byteLength === 0 ?\n",
              "          100 :\n",
              "          Math.round((position / fileData.byteLength) * 100);\n",
              "      percent.textContent = `${percentDone}% done`;\n",
              "\n",
              "    } while (position < fileData.byteLength);\n",
              "  }\n",
              "\n",
              "  // All done.\n",
              "  yield {\n",
              "    response: {\n",
              "      action: 'complete',\n",
              "    }\n",
              "  };\n",
              "}\n",
              "\n",
              "scope.google = scope.google || {};\n",
              "scope.google.colab = scope.google.colab || {};\n",
              "scope.google.colab._files = {\n",
              "  _uploadFiles,\n",
              "  _uploadFilesContinue,\n",
              "};\n",
              "})(self);\n",
              "</script> "
            ],
            "text/plain": [
              "<IPython.core.display.HTML object>"
            ]
          },
          "metadata": {},
          "output_type": "display_data"
        },
        {
          "name": "stdout",
          "output_type": "stream",
          "text": [
            "Saving entrada_2.xlsx to entrada_2 (1).xlsx\n"
          ]
        }
      ],
      "source": [
        "from google.colab import files \n",
        "uploaded = files.upload()"
      ]
    },
    {
      "cell_type": "markdown",
      "metadata": {
        "id": "-srgIf7qV-Uk"
      },
      "source": [
        "A funcao 'plota' produz um gráfico da estrutura definida pela matriz de nos N \n",
        "e pela incidencia Inc.\n",
        "\n",
        "Sugestao de uso:\n",
        "\n",
        "from funcoesTermosol import plota\n",
        "plota(N,Inc)\n",
        "-------------------------------------------------------------------------------\n",
        "A funcao 'importa' retorna o numero de nos [nn], a matriz dos nos [N], o numero\n",
        "de membros [nm], a matriz de incidencia [Inc], o numero de cargas [nc], o vetor\n",
        "carregamento [F], o numero de restricoes [nr] e o vetor de restricoes [R] \n",
        "contidos no arquivo de entrada.\n",
        "\n",
        "Sugestao de uso:\n",
        "    \n",
        "from funcoesTermosol import importa\n",
        "[nn,N,nm,Inc,nc,F,nr,R] = importa('entrada.xlsx')\n",
        "-------------------------------------------------------------------------------\n",
        "A funcao 'geraSaida' cria um arquivo nome.txt contendo as reacoes de apoio Ft, \n",
        "deslocamentos Ut, deformacoes Epsi, forcas Fi e tensoes Ti internas. \n",
        "As entradas devem ser vetores coluna.\n",
        "\n",
        "Sugestao de uso:\n",
        "    \n",
        "from funcoesTermosol import geraSaida\n",
        "geraSaida(nome,Ft,Ut,Epsi,Fi,Ti)\n",
        "-------------------------------------------------------------------------------\n",
        "\n"
      ]
    },
    {
      "cell_type": "code",
      "execution_count": 5,
      "metadata": {
        "id": "eAH9U5iaV-Up"
      },
      "outputs": [],
      "source": [
        "def plota(N,Inc):\n",
        "    # Numero de membros\n",
        "    nm = len(Inc[:,0])\n",
        "    \n",
        "    import matplotlib as mpl\n",
        "    import matplotlib.pyplot as plt\n",
        "\n",
        "#    plt.show()\n",
        "    fig = plt.figure()\n",
        "    # Passa por todos os membros\n",
        "    for i in range(nm):\n",
        "        \n",
        "        # encontra no inicial [n1] e final [n2] \n",
        "        n1 = int(Inc[i,0])\n",
        "        n2 = int(Inc[i,1])        \n",
        "\n",
        "        plt.plot([N[0,n1-1],N[0,n2-1]],[N[1,n1-1],N[1,n2-1]],color='r',linewidth=3)\n",
        "\n",
        "    plt.xlabel('x [m]')\n",
        "    plt.ylabel('y [m]')\n",
        "    plt.grid(True)\n",
        "    plt.axis('equal')\n",
        "    plt.show()"
      ]
    },
    {
      "cell_type": "code",
      "execution_count": 6,
      "metadata": {
        "id": "M8PpXhGlV-Ur"
      },
      "outputs": [],
      "source": [
        "def importa(entradaNome):\n",
        "\n",
        "    \n",
        "    arquivo = xlrd.open_workbook(entradaNome)\n",
        "    \n",
        "    ################################################## Ler os nos\n",
        "    nos = arquivo.sheet_by_name('Nos')\n",
        "    \n",
        "    # Numero de nos\n",
        "    nn = int(nos.cell(1,3).value)\n",
        "                 \n",
        "    # Matriz dos nós\n",
        "    N = np.zeros((2,nn))\n",
        "    \n",
        "    for c in range(nn):\n",
        "        N[0,c] = nos.cell(c+1,0).value\n",
        "        N[1,c] = nos.cell(c+1,1).value\n",
        "    \n",
        "    ################################################## Ler a incidencia\n",
        "    incid = arquivo.sheet_by_name('Incidencia')\n",
        "    \n",
        "    # Numero de membros\n",
        "    nm = int(incid.cell(1,5).value)\n",
        "                 \n",
        "    # Matriz de incidencia\n",
        "    Inc = np.zeros((nm,4))\n",
        "    \n",
        "    for c in range(nm):\n",
        "        Inc[c,0] = int(incid.cell(c+1,0).value)\n",
        "        Inc[c,1] = int(incid.cell(c+1,1).value)\n",
        "        Inc[c,2] = incid.cell(c+1,2).value\n",
        "        Inc[c,3] = incid.cell(c+1,3).value\n",
        "    \n",
        "    ################################################## Ler as cargas\n",
        "    carg = arquivo.sheet_by_name('Carregamento')\n",
        "    \n",
        "    # Numero de cargas\n",
        "    nc = int(carg.cell(1,4).value)\n",
        "                 \n",
        "    # Vetor carregamento\n",
        "    F = np.zeros((nn*2,1))\n",
        "    \n",
        "    for c in range(nc):\n",
        "        no = carg.cell(c+1,0).value\n",
        "        xouy = carg.cell(c+1,1).value\n",
        "        GDL = int(no*2-(2-xouy)) \n",
        "        F[GDL-1,0] = carg.cell(c+1,2).value\n",
        "         \n",
        "    ################################################## Ler restricoes\n",
        "    restr = arquivo.sheet_by_name('Restricao')\n",
        "    \n",
        "    # Numero de restricoes\n",
        "    nr = int(restr.cell(1,3).value)\n",
        "                 \n",
        "    # Vetor com os graus de liberdade restritos\n",
        "    R = np.zeros((nr,1))\n",
        "    \n",
        "    for c in range(nr):\n",
        "        no = restr.cell(c+1,0).value\n",
        "        xouy = restr.cell(c+1,1).value\n",
        "        GDL = no*2-(2-xouy) \n",
        "        R[c,0] = GDL-1\n",
        "\n",
        "\n",
        "    return nn,N,nm,Inc,nc,F,nr,R\n"
      ]
    },
    {
      "cell_type": "code",
      "execution_count": 7,
      "metadata": {
        "id": "tMCQZZs4V-Uu"
      },
      "outputs": [],
      "source": [
        "def geraSaida(nome,Ft,Ut,Epsi,Fi,Ti):\n",
        "    nome = nome + '.txt'\n",
        "    f = open(\"saida.txt\",\"w+\")\n",
        "    f.write('Reacoes de apoio [N]\\n')\n",
        "    f.write(str(Ft))\n",
        "    print(str(Ft))\n",
        "    f.write('\\n\\nDeslocamentos [m]\\n')\n",
        "    f.write(str(Ut))\n",
        "    print(str(Ut))\n",
        "    f.write('\\n\\nDeformacoes []\\n')\n",
        "    f.write(str(Epsi))\n",
        "    print(str(Epsi))\n",
        "    f.write('\\n\\nForcas internas [N]\\n')\n",
        "    f.write(str(Fi))\n",
        "    print(str(Fi))\n",
        "    f.write('\\n\\nTensoes internas [Pa]\\n')\n",
        "    f.write(str(Ti))\n",
        "    print(str(Ti))\n",
        "    f.close()"
      ]
    },
    {
      "cell_type": "code",
      "execution_count": 8,
      "metadata": {
        "id": "78tdPgHCbN_b"
      },
      "outputs": [],
      "source": [
        "def get_angles_lenghts(N,Inc,nm):\n",
        "  angs = np.zeros((nm,nm))\n",
        "  Ls = []\n",
        "  for i in range(nm):\n",
        "    nos = int(Inc[i,0])-1,int(Inc[i,1])-1\n",
        "    L = np.sqrt((N[nos[1],0]-N[nos[0],0])**2 +(N[nos[1],1]-N[nos[0],1])**2)\n",
        "    Ls.append(L)\n",
        "    angs[i,0] = (N[nos[1],0]-N[nos[0],0])/L\n",
        "    angs[i,1] = (N[nos[1],1]-N[nos[0],1])/L\n",
        "  return Ls,angs"
      ]
    },
    {
      "cell_type": "code",
      "execution_count": 9,
      "metadata": {
        "id": "bc7wo-kH2DhS"
      },
      "outputs": [],
      "source": [
        "def fill_matrix(E,A,l,c,s):\n",
        "  return E*A/l * np.array([[c**2,c*s,-c**2,-c*s],\n",
        "                [c*s,s**2,-c*s,-s**2],\n",
        "                [-c**2,-c*s,c**2,c*s],\n",
        "                [-c*s,-s**2,c*s,s**2]])"
      ]
    },
    {
      "cell_type": "code",
      "execution_count": 10,
      "metadata": {
        "id": "M3t0gkethJ4f"
      },
      "outputs": [],
      "source": [
        "def get_matriz_elemento(N,L,Inc,ang,nm):\n",
        "  lista = []\n",
        "  for i in range(nm):\n",
        "    lista.append(fill_matrix(Inc[i,2],Inc[i,3],L[i],ang[i,0], ang[i,1]))\n",
        "  return lista"
      ]
    },
    {
      "cell_type": "code",
      "execution_count": 11,
      "metadata": {
        "id": "W5TvDSSkpqhv"
      },
      "outputs": [],
      "source": [
        "def get_matriz_global(N,Inc,ang,nm):\n",
        "  lista = get_matriz_elemento(N,Ls,Inc,ang,nm)\n",
        "  matriz_global = np.zeros((2*len(N[:,0]),2*len(N[:,0])))\n",
        "  for i in range(nm):\n",
        "      N1,N2 = int(Inc[i,0]),int(Inc[i,1])\n",
        "        \n",
        "      grau1 = 2*N1 - 1\n",
        "      grau2 = 2*N1 \n",
        "      grau3 = 2*N2 - 1\n",
        "      grau4 = 2*N2\n",
        "\n",
        "      matriz_global[grau1-1:grau2, grau1-1:grau2] += lista[i][0:2, 0:2]\n",
        "      matriz_global[grau3-1:grau4, grau1-1:grau2] += lista[i][2:4, 0:2]\n",
        "      matriz_global[grau1-1:grau2, grau3-1:grau4] += lista[i][0:2, 2:4]\n",
        "      matriz_global[grau3-1:grau4, grau3-1:grau4] += lista[i][2:4, 2:4]\n",
        "      \n",
        "  return matriz_global"
      ]
    },
    {
      "cell_type": "code",
      "execution_count": 12,
      "metadata": {
        "id": "UmtfAEX3ywDI"
      },
      "outputs": [],
      "source": [
        "def jacobi(A,b,erro):\n",
        "    n = len(b[:,0])\n",
        "    x = np.zeros((n,1))\n",
        "    x0 = np.zeros((n,1))\n",
        "    k = 0\n",
        "    erroAtual = 1\n",
        "    while erroAtual > erro:\n",
        "        for i in range(n):\n",
        "            soma = 0\n",
        "            for j in range(n):\n",
        "                if j != i:\n",
        "                    soma += A[i,j]*x0[j,0]\n",
        "            x[i,0] = (b[i,0] - soma)/A[i,i]\n",
        "        erroAtual = np.max(np.abs(x-x0))\n",
        "        x0 = np.copy(x) \n",
        "        k +=1\n",
        "    return x,k\n",
        "\n",
        "def gauss_seidel(A, b, tol):\n",
        "    n = len(b[:,0])\n",
        "    x = np.zeros((n,1))\n",
        "    x0 = np.zeros((n,1))\n",
        "    count = 0\n",
        "    while True:\n",
        "        x_new = np.zeros_like(x)\n",
        "        for i in range(A.shape[0]):\n",
        "            s1 = np.dot(A[i, :i], x_new[:i])\n",
        "            s2 = np.dot(A[i, i + 1:], x[i + 1:])\n",
        "            x_new[i] = (b[i] - s1 - s2) / A[i, i]\n",
        "        if np.allclose(x, x_new, rtol=tol):\n",
        "            break\n",
        "        x = x_new\n",
        "        count += 1\n",
        "    return x_new,count\n"
      ]
    },
    {
      "cell_type": "code",
      "execution_count": 13,
      "metadata": {
        "id": "3qAg9ABBTDkA"
      },
      "outputs": [],
      "source": [
        "def get_deslocamentos_reacoes(N,R,F,G):\n",
        "  #Graus de liberdade\n",
        "  grau_restrito = list(map(lambda x:int(x[0]),R))\n",
        "  grau_nao_restrito = [x for x in range(2*len(N[:,0])) if x not in grau_restrito]\n",
        "\n",
        "  #Matrizes de resolução\n",
        "  matriz_global_com_restricoes = np.take(np.take(G,grau_nao_restrito,axis=0),grau_nao_restrito,axis=1) \n",
        "  forca_com_restricoes = np.take(np.array(F),grau_nao_restrito,axis=0)\n",
        "  \n",
        "  #solução para deslocamentos\n",
        "  U = np.linalg.solve(matriz_global_com_restricoes, forca_com_restricoes)\n",
        "  U1,count1 = jacobi(matriz_global_com_restricoes, forca_com_restricoes,1e-9)\n",
        "  U2,count2 = gauss_seidel(matriz_global_com_restricoes, forca_com_restricoes,1e-9)\n",
        "  if count2 < count1:\n",
        "    U = U2.copy()\n",
        "    print(\"usando gauss-seidel\")\n",
        "  else:\n",
        "    U = U1.copy()\n",
        "    print(\"usando Jacobi\")\n",
        "  deslocamentos = np.zeros([len(F),1])\n",
        "\n",
        "  #Calcuando reacções\n",
        "  j=0\n",
        "  for i in range(len(F)):\n",
        "    if i in grau_nao_restrito:\n",
        "      deslocamentos[i,0] = U[j,0]\n",
        "      j+=1\n",
        "\n",
        "  L = np.dot(G,deslocamentos)\n",
        "  reacoes = np.take(L,grau_restrito,axis=0)\n",
        "  return deslocamentos,reacoes\n"
      ]
    },
    {
      "cell_type": "code",
      "execution_count": 14,
      "metadata": {
        "id": "bQyPMwDqlNxB"
      },
      "outputs": [],
      "source": [
        "def get_tensoes_deform_tensoes(N,deslocamentos,angs,Inc,nm,Ls):\n",
        "  defor = []\n",
        "  tensoes = []\n",
        "  forcas = []\n",
        "  for i in range(nm):\n",
        "    N1,N2 = int(Inc[i,0])-1,int(Inc[i,1])-1\n",
        "    N1x,N1y,N2x,N2y = 2*N1,2*N1+1,2*N2,2*N2+1\n",
        "    m = np.array([-angs[i,0],-angs[i,1],angs[i,0],angs[i,1]]).reshape(4,1)\n",
        "    g = np.array([deslocamentos[N1x],deslocamentos[N1y],deslocamentos[N2x],deslocamentos[N2y]]).reshape(1,4)\n",
        "    p = np.dot(g,m)[0]\n",
        "    tensoes.append(Inc[i,2]*p/Ls[i])\n",
        "    forcas.append(Inc[i,2]*p*Inc[i,3]/(Ls[i]))\n",
        "    defor.append(p/Ls[i])\n",
        "  return defor,forcas,tensoes\n"
      ]
    },
    {
      "cell_type": "code",
      "execution_count": 16,
      "metadata": {
        "colab": {
          "base_uri": "https://localhost:8080/"
        },
        "id": "LJ4YtZVW9PsL",
        "outputId": "a376457a-1f65-4053-9c0e-3da61f937b42"
      },
      "outputs": [
        {
          "name": "stdout",
          "output_type": "stream",
          "text": [
            "usando gauss-seidel\n",
            "[[  75.        ]\n",
            " [-224.80529141]\n",
            " [  99.84923205]]\n",
            "[[ 0.00000000e+00]\n",
            " [-9.50945067e-07]\n",
            " [ 0.00000000e+00]\n",
            " [ 0.00000000e+00]\n",
            " [ 1.60575208e-06]\n",
            " [-4.01537818e-06]]\n",
            "[array([2.37736267e-06]), array([5.35250694e-06]), array([-2.97619048e-06])]\n",
            "[array([99.84923205]), array([224.80529141]), array([-125.])]\n",
            "[array([499246.16026889]), array([1124026.4570419]), array([-625000.])]\n"
          ]
        }
      ],
      "source": [
        "nn,N,nm,Inc,nc,F,nr,R = importa('entrada.xls')\n",
        "\n",
        "\n",
        "N_1 = np.transpose(N)\n",
        "Ls,angs = get_angles_lenghts(N_1,Inc,nm)\n",
        "G =get_matriz_global(N_1,Inc,angs,nm)\n",
        "deslocamentos,reacoes = get_deslocamentos_reacoes(N_1,R,F,G)\n",
        "defor,forcas,tensoes = get_tensoes_deform_tensoes(N_1,deslocamentos,angs,Inc,nm,Ls)\n",
        "geraSaida(\"teste\",reacoes,deslocamentos,defor,forcas,tensoes)"
      ]
    },
    {
      "cell_type": "code",
      "execution_count": 17,
      "metadata": {
        "colab": {
          "base_uri": "https://localhost:8080/",
          "height": 279
        },
        "id": "AaBpjj53Txxg",
        "outputId": "6c58e924-5c29-401c-9ef3-c01515d9d8db"
      },
      "outputs": [
        {
          "name": "stderr",
          "output_type": "stream",
          "text": [
            "/tmp/ipykernel_11609/4143776588.py:17: UserWarning: color is redundantly defined by the 'color' keyword argument and the fmt string \"g:\" (-> color='g'). The keyword argument will take precedence.\n",
            "  plt.plot([N[0,n1-1]+deslocamentos[N1x]*e,N[0,n2-1]+deslocamentos[N2x]*e],[N[1,n1-1]+deslocamentos[N1y]*e,N[1,n2-1]+deslocamentos[N2y]*e],'g:',color='y',linewidth=3)\n"
          ]
        },
        {
          "data": {
            "image/png": "[encoded data removed]",
            "text/plain": [
              "<Figure size 640x480 with 1 Axes>"
            ]
          },
          "metadata": {},
          "output_type": "display_data"
        }
      ],
      "source": [
        "nm = len(Inc[:,0])\n",
        "import matplotlib as mpl\n",
        "import matplotlib.pyplot as plt\n",
        "\n",
        "#    plt.show()\n",
        "fig = plt.figure()\n",
        "# Passa por todos os membros\n",
        "for i in range(nm):\n",
        "    e = 1e4\n",
        "    n1 = int(Inc[i,0])\n",
        "    n2 = int(Inc[i,1])  \n",
        "    N1 = int(Inc[i,0])-1\n",
        "    N2 = int(Inc[i,1])-1  \n",
        "    N1x,N1y,N2x,N2y = 2*N1,2*N1+1,2*N2,2*N2+1      \n",
        "\n",
        "    plt.plot([N[0,n1-1],N[0,n2-1]],[N[1,n1-1],N[1,n2-1]],color='r',linewidth=3)\n",
        "    plt.plot([N[0,n1-1]+deslocamentos[N1x]*e,N[0,n2-1]+deslocamentos[N2x]*e],[N[1,n1-1]+deslocamentos[N1y]*e,N[1,n2-1]+deslocamentos[N2y]*e],'g:',color='y',linewidth=3)\n",
        "\n",
        "\n",
        "plt.xlabel('x [m]')\n",
        "plt.ylabel('y [m]')\n",
        "plt.grid(True)\n",
        "plt.axis('equal')\n",
        "plt.show()"
      ]
    },
    {
      "cell_type": "code",
      "execution_count": 19,
      "metadata": {
        "colab": {
          "base_uri": "https://localhost:8080/"
        },
        "id": "js8UNNiNU-4I",
        "outputId": "282d7e3c-e672-413f-d1d8-7cd4e216547a"
      },
      "outputs": [
        {
          "name": "stdout",
          "output_type": "stream",
          "text": [
            "usando gauss-seidel\n"
          ]
        },
        {
          "name": "stderr",
          "output_type": "stream",
          "text": [
            "/tmp/ipykernel_11609/4339990.py:12: RuntimeWarning: overflow encountered in double_scalars\n",
            "  soma += A[i,j]*x0[j,0]\n",
            "/tmp/ipykernel_11609/4339990.py:12: RuntimeWarning: invalid value encountered in double_scalars\n",
            "  soma += A[i,j]*x0[j,0]\n"
          ]
        },
        {
          "ename": "TypeError",
          "evalue": "get_tensoes_deform_tensoes() missing 1 required positional argument: 'Ls'",
          "output_type": "error",
          "traceback": [
            "\u001b[0;31m---------------------------------------------------------------------------\u001b[0m",
            "\u001b[0;31mTypeError\u001b[0m                                 Traceback (most recent call last)",
            "Cell \u001b[0;32mIn [19], line 7\u001b[0m\n\u001b[1;32m      5\u001b[0m G \u001b[39m=\u001b[39mget_matriz_global(N_1,Inc,angs,nm)\n\u001b[1;32m      6\u001b[0m deslocamentos,reacoes \u001b[39m=\u001b[39m get_deslocamentos_reacoes(N_1,R,F,G)\n\u001b[0;32m----> 7\u001b[0m defor,forcas,tensoes \u001b[39m=\u001b[39m get_tensoes_deform_tensoes(N_1,deslocamentos,angs,Inc,nm)\n\u001b[1;32m      8\u001b[0m geraSaida(\u001b[39m\"\u001b[39m\u001b[39mteste\u001b[39m\u001b[39m\"\u001b[39m,reacoes,deslocamentos,defor,forcas,tensoes)\n",
            "\u001b[0;31mTypeError\u001b[0m: get_tensoes_deform_tensoes() missing 1 required positional argument: 'Ls'"
          ]
        }
      ],
      "source": [
        "nn,N,nm,Inc,nc,F,nr,R = importa('entrada_2.xls')\n",
        "\n",
        "N_1 = np.transpose(N)\n",
        "Ls,angs = get_angles_lenghts(N_1,Inc,nm)\n",
        "G =get_matriz_global(N_1,Inc,angs,nm)\n",
        "deslocamentos,reacoes = get_deslocamentos_reacoes(N_1,R,F,G)\n",
        "defor,forcas,tensoes = get_tensoes_deform_tensoes(N_1,deslocamentos,angs,Inc,nm)\n",
        "geraSaida(\"teste\",reacoes,deslocamentos,defor,forcas,tensoes)"
      ]
    },
    {
      "cell_type": "code",
      "execution_count": 152,
      "metadata": {
        "colab": {
          "base_uri": "https://localhost:8080/",
          "height": 279
        },
        "id": "P-raehrWY5hD",
        "outputId": "f5041b50-fdf5-4308-a8cc-c6f87d49cad9"
      },
      "outputs": [
        {
          "data": {
            "image/png": "[encoded data removed]",
            "text/plain": [
              "<Figure size 432x288 with 1 Axes>"
            ]
          },
          "metadata": {
            "needs_background": "light"
          },
          "output_type": "display_data"
        }
      ],
      "source": [
        "nm = len(Inc[:,0])\n",
        "import matplotlib as mpl\n",
        "import matplotlib.pyplot as plt\n",
        "\n",
        "#    plt.show()\n",
        "fig = plt.figure()\n",
        "# Passa por todos os membros\n",
        "for i in range(nm):\n",
        "    e = 5\n",
        "    # encontra no inicial [n1] e final [n2] \n",
        "    n1 = int(Inc[i,0])\n",
        "    n2 = int(Inc[i,1])  \n",
        "    N1 = int(Inc[i,0])-1\n",
        "    N2 = int(Inc[i,1])-1  \n",
        "    N1x,N1y,N2x,N2y = 2*N1,2*N1+1,2*N2,2*N2+1      \n",
        "\n",
        "    plt.plot([N[0,n1-1],N[0,n2-1]],[N[1,n1-1],N[1,n2-1]],color='r',linewidth=3)\n",
        "    plt.plot([N[0,n1-1]+deslocamentos[N1x]*e,N[0,n2-1]+deslocamentos[N2x]*e],[N[1,n1-1]+deslocamentos[N1y]*e,N[1,n2-1]+deslocamentos[N2y]*e],'g:',color='y',linewidth=3)\n",
        "\n",
        "\n",
        "plt.xlabel('x [m]')\n",
        "plt.ylabel('y [m]')\n",
        "plt.grid(True)\n",
        "plt.axis('equal')\n",
        "plt.show()"
      ]
    },
    {
      "cell_type": "code",
      "execution_count": null,
      "metadata": {
        "id": "Ep2mZifERmhn"
      },
      "outputs": [],
      "source": []
    }
  ],
  "metadata": {
    "colab": {
      "provenance": []
    },
    "kernelspec": {
      "display_name": "Python 3.10.6 64-bit",
      "language": "python",
      "name": "python3"
    },
    "language_info": {
      "codemirror_mode": {
        "name": "ipython",
        "version": 3
      },
      "file_extension": ".py",
      "mimetype": "text/x-python",
      "name": "python",
      "nbconvert_exporter": "python",
      "pygments_lexer": "ipython3",
      "version": "3.10.6"
    },
    "orig_nbformat": 4,
    "vscode": {
      "interpreter": {
        "hash": "916dbcbb3f70747c44a77c7bcd40155683ae19c65e1c03b4aa3499c5328201f1"
      }
    }
  },
  "nbformat": 4,
  "nbformat_minor": 0
}
