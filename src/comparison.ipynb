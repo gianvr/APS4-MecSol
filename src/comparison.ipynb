{
 "cells": [
  {
   "cell_type": "markdown",
   "metadata": {},
   "source": [
    "# Comparison"
   ]
  },
  {
   "cell_type": "markdown",
   "metadata": {},
   "source": [
    "## Displacements\n",
    "Lisa simulations against our software"
   ]
  },
  {
   "cell_type": "code",
   "execution_count": 44,
   "metadata": {},
   "outputs": [],
   "source": [
    "import pandas as pd"
   ]
  },
  {
   "cell_type": "markdown",
   "metadata": {},
   "source": []
  },
  {
   "cell_type": "code",
   "execution_count": 51,
   "metadata": {},
   "outputs": [
    {
     "data": {
      "text/html": [
       "<div>\n",
       "<style scoped>\n",
       "    .dataframe tbody tr th:only-of-type {\n",
       "        vertical-align: middle;\n",
       "    }\n",
       "\n",
       "    .dataframe tbody tr th {\n",
       "        vertical-align: top;\n",
       "    }\n",
       "\n",
       "    .dataframe thead th {\n",
       "        text-align: right;\n",
       "    }\n",
       "</style>\n",
       "<table border=\"1\" class=\"dataframe\">\n",
       "  <thead>\n",
       "    <tr style=\"text-align: right;\">\n",
       "      <th></th>\n",
       "      <th>Node</th>\n",
       "      <th>Displacement in X(lisa)</th>\n",
       "      <th>Displacement in X (Software)</th>\n",
       "      <th>Effective difference %</th>\n",
       "    </tr>\n",
       "  </thead>\n",
       "  <tbody>\n",
       "    <tr>\n",
       "      <th>0</th>\n",
       "      <td>1</td>\n",
       "      <td>0.000000</td>\n",
       "      <td>0.000000</td>\n",
       "      <td>0.000000</td>\n",
       "    </tr>\n",
       "    <tr>\n",
       "      <th>1</th>\n",
       "      <td>2</td>\n",
       "      <td>0.001004</td>\n",
       "      <td>0.001005</td>\n",
       "      <td>-0.011404</td>\n",
       "    </tr>\n",
       "    <tr>\n",
       "      <th>2</th>\n",
       "      <td>3</td>\n",
       "      <td>0.000360</td>\n",
       "      <td>0.000360</td>\n",
       "      <td>-0.013245</td>\n",
       "    </tr>\n",
       "    <tr>\n",
       "      <th>3</th>\n",
       "      <td>4</td>\n",
       "      <td>0.000260</td>\n",
       "      <td>0.000260</td>\n",
       "      <td>-0.007795</td>\n",
       "    </tr>\n",
       "    <tr>\n",
       "      <th>4</th>\n",
       "      <td>5</td>\n",
       "      <td>0.000558</td>\n",
       "      <td>0.000558</td>\n",
       "      <td>0.002264</td>\n",
       "    </tr>\n",
       "    <tr>\n",
       "      <th>5</th>\n",
       "      <td>6</td>\n",
       "      <td>-0.000324</td>\n",
       "      <td>-0.000324</td>\n",
       "      <td>-0.032573</td>\n",
       "    </tr>\n",
       "    <tr>\n",
       "      <th>6</th>\n",
       "      <td>7</td>\n",
       "      <td>0.001164</td>\n",
       "      <td>0.001164</td>\n",
       "      <td>-0.003449</td>\n",
       "    </tr>\n",
       "  </tbody>\n",
       "</table>\n",
       "</div>"
      ],
      "text/plain": [
       "   Node  Displacement in X(lisa)  Displacement in X (Software)  \\\n",
       "0     1                 0.000000                      0.000000   \n",
       "1     2                 0.001004                      0.001005   \n",
       "2     3                 0.000360                      0.000360   \n",
       "3     4                 0.000260                      0.000260   \n",
       "4     5                 0.000558                      0.000558   \n",
       "5     6                -0.000324                     -0.000324   \n",
       "6     7                 0.001164                      0.001164   \n",
       "\n",
       "   Effective difference %  \n",
       "0                0.000000  \n",
       "1               -0.011404  \n",
       "2               -0.013245  \n",
       "3               -0.007795  \n",
       "4                0.002264  \n",
       "5               -0.032573  \n",
       "6               -0.003449  "
      ]
     },
     "execution_count": 51,
     "metadata": {},
     "output_type": "execute_result"
    }
   ],
   "source": [
    "f = pd.read_csv(\"lisa_files/nodes_comparison.csv\")\n",
    "f.columns = ['Node','Displacement in X(lisa)','Displacement in Y(lisa)','a']\n",
    "f = f.drop(\"a\",axis=1)\n",
    "displacements = [\n",
    "[ 0.        ],\n",
    "[ 0.        ],\n",
    "[ 0.00100461],\n",
    "[-0.00431138],\n",
    "[ 0.0003597 ],\n",
    "[-0.00466275],\n",
    "[ 0.00025966],\n",
    "[-0.00443891],\n",
    "[ 0.00055848],\n",
    "[-0.00463723],\n",
    "[-0.00032433],\n",
    "[-0.00424746],\n",
    "[ 0.00116435],\n",
    "[ 0.        ]\n",
    "]\n",
    "x =[]\n",
    "y = []\n",
    "for i in range(len(displacements)):\n",
    "    if i % 2 ==0:\n",
    "        x.append(displacements[i][0])\n",
    "    else:\n",
    "        y.append(displacements[i][0])\n",
    "f['Displacement in X (Software)'] = x\n",
    "f['Displacement in y (Software)'] = y\n",
    "x_values = f.copy()\n",
    "y_values = f.copy()\n",
    "x_values = x_values.drop([\"Displacement in Y(lisa)\",\"Displacement in y (Software)\"],axis=1)\n",
    "y_values = y_values.drop([\"Displacement in X(lisa)\",\"Displacement in X (Software)\"],axis=1)\n",
    "x_values['Effective difference %'] = 100*(x_values[\"Displacement in X(lisa)\"] -  x_values[\"Displacement in X (Software)\"])/x_values[\"Displacement in X(lisa)\"]\n",
    "y_values['Effective difference %'] = 100*(y_values[\"Displacement in Y(lisa)\"] -  y_values[\"Displacement in y (Software)\"])/y_values[\"Displacement in Y(lisa)\"]\n",
    "x_values = x_values.fillna(0)\n",
    "y_values = y_values.fillna(0)\n",
    "x_values"
   ]
  },
  {
   "cell_type": "code",
   "execution_count": 52,
   "metadata": {},
   "outputs": [
    {
     "data": {
      "text/html": [
       "<div>\n",
       "<style scoped>\n",
       "    .dataframe tbody tr th:only-of-type {\n",
       "        vertical-align: middle;\n",
       "    }\n",
       "\n",
       "    .dataframe tbody tr th {\n",
       "        vertical-align: top;\n",
       "    }\n",
       "\n",
       "    .dataframe thead th {\n",
       "        text-align: right;\n",
       "    }\n",
       "</style>\n",
       "<table border=\"1\" class=\"dataframe\">\n",
       "  <thead>\n",
       "    <tr style=\"text-align: right;\">\n",
       "      <th></th>\n",
       "      <th>Node</th>\n",
       "      <th>Displacement in Y(lisa)</th>\n",
       "      <th>Displacement in y (Software)</th>\n",
       "      <th>Effective difference %</th>\n",
       "    </tr>\n",
       "  </thead>\n",
       "  <tbody>\n",
       "    <tr>\n",
       "      <th>0</th>\n",
       "      <td>1</td>\n",
       "      <td>0.000000</td>\n",
       "      <td>0.000000</td>\n",
       "      <td>0.000000</td>\n",
       "    </tr>\n",
       "    <tr>\n",
       "      <th>1</th>\n",
       "      <td>2</td>\n",
       "      <td>-0.004311</td>\n",
       "      <td>-0.004311</td>\n",
       "      <td>-0.007929</td>\n",
       "    </tr>\n",
       "    <tr>\n",
       "      <th>2</th>\n",
       "      <td>3</td>\n",
       "      <td>-0.004662</td>\n",
       "      <td>-0.004663</td>\n",
       "      <td>-0.007642</td>\n",
       "    </tr>\n",
       "    <tr>\n",
       "      <th>3</th>\n",
       "      <td>4</td>\n",
       "      <td>-0.004439</td>\n",
       "      <td>-0.004439</td>\n",
       "      <td>-0.005248</td>\n",
       "    </tr>\n",
       "    <tr>\n",
       "      <th>4</th>\n",
       "      <td>5</td>\n",
       "      <td>-0.004637</td>\n",
       "      <td>-0.004637</td>\n",
       "      <td>-0.008441</td>\n",
       "    </tr>\n",
       "    <tr>\n",
       "      <th>5</th>\n",
       "      <td>6</td>\n",
       "      <td>-0.004247</td>\n",
       "      <td>-0.004247</td>\n",
       "      <td>-0.008829</td>\n",
       "    </tr>\n",
       "    <tr>\n",
       "      <th>6</th>\n",
       "      <td>7</td>\n",
       "      <td>0.000000</td>\n",
       "      <td>0.000000</td>\n",
       "      <td>0.000000</td>\n",
       "    </tr>\n",
       "  </tbody>\n",
       "</table>\n",
       "</div>"
      ],
      "text/plain": [
       "   Node  Displacement in Y(lisa)  Displacement in y (Software)  \\\n",
       "0     1                 0.000000                      0.000000   \n",
       "1     2                -0.004311                     -0.004311   \n",
       "2     3                -0.004662                     -0.004663   \n",
       "3     4                -0.004439                     -0.004439   \n",
       "4     5                -0.004637                     -0.004637   \n",
       "5     6                -0.004247                     -0.004247   \n",
       "6     7                 0.000000                      0.000000   \n",
       "\n",
       "   Effective difference %  \n",
       "0                0.000000  \n",
       "1               -0.007929  \n",
       "2               -0.007642  \n",
       "3               -0.005248  \n",
       "4               -0.008441  \n",
       "5               -0.008829  \n",
       "6                0.000000  "
      ]
     },
     "execution_count": 52,
     "metadata": {},
     "output_type": "execute_result"
    }
   ],
   "source": [
    "y_values"
   ]
  },
  {
   "cell_type": "markdown",
   "metadata": {},
   "source": [
    "# Tensile"
   ]
  },
  {
   "cell_type": "code",
   "execution_count": 47,
   "metadata": {},
   "outputs": [
    {
     "data": {
      "text/html": [
       "<div>\n",
       "<style scoped>\n",
       "    .dataframe tbody tr th:only-of-type {\n",
       "        vertical-align: middle;\n",
       "    }\n",
       "\n",
       "    .dataframe tbody tr th {\n",
       "        vertical-align: top;\n",
       "    }\n",
       "\n",
       "    .dataframe thead th {\n",
       "        text-align: right;\n",
       "    }\n",
       "</style>\n",
       "<table border=\"1\" class=\"dataframe\">\n",
       "  <thead>\n",
       "    <tr style=\"text-align: right;\">\n",
       "      <th></th>\n",
       "      <th>Element</th>\n",
       "      <th>Local Node</th>\n",
       "      <th>Tensile Force (lisa)</th>\n",
       "      <th>Tensile Force (Software)</th>\n",
       "      <th>Effective difference %</th>\n",
       "    </tr>\n",
       "  </thead>\n",
       "  <tbody>\n",
       "    <tr>\n",
       "      <th>1</th>\n",
       "      <td>1</td>\n",
       "      <td>2</td>\n",
       "      <td>-6484.003965</td>\n",
       "      <td>-6484.321659</td>\n",
       "      <td>-0.004900</td>\n",
       "    </tr>\n",
       "    <tr>\n",
       "      <th>3</th>\n",
       "      <td>2</td>\n",
       "      <td>2</td>\n",
       "      <td>-765.752289</td>\n",
       "      <td>-766.073355</td>\n",
       "      <td>-0.041928</td>\n",
       "    </tr>\n",
       "    <tr>\n",
       "      <th>5</th>\n",
       "      <td>3</td>\n",
       "      <td>2</td>\n",
       "      <td>1899.385942</td>\n",
       "      <td>1899.650543</td>\n",
       "      <td>-0.013931</td>\n",
       "    </tr>\n",
       "    <tr>\n",
       "      <th>7</th>\n",
       "      <td>4</td>\n",
       "      <td>2</td>\n",
       "      <td>-4555.469151</td>\n",
       "      <td>-4555.729825</td>\n",
       "      <td>-0.005722</td>\n",
       "    </tr>\n",
       "    <tr>\n",
       "      <th>9</th>\n",
       "      <td>5</td>\n",
       "      <td>2</td>\n",
       "      <td>765.566360</td>\n",
       "      <td>766.034483</td>\n",
       "      <td>-0.061147</td>\n",
       "    </tr>\n",
       "    <tr>\n",
       "      <th>11</th>\n",
       "      <td>6</td>\n",
       "      <td>2</td>\n",
       "      <td>-3828.695676</td>\n",
       "      <td>-3828.986981</td>\n",
       "      <td>-0.007608</td>\n",
       "    </tr>\n",
       "    <tr>\n",
       "      <th>13</th>\n",
       "      <td>7</td>\n",
       "      <td>2</td>\n",
       "      <td>-1937.534761</td>\n",
       "      <td>-1937.985219</td>\n",
       "      <td>-0.023249</td>\n",
       "    </tr>\n",
       "    <tr>\n",
       "      <th>15</th>\n",
       "      <td>8</td>\n",
       "      <td>2</td>\n",
       "      <td>-3577.160403</td>\n",
       "      <td>-3577.402565</td>\n",
       "      <td>-0.006770</td>\n",
       "    </tr>\n",
       "    <tr>\n",
       "      <th>17</th>\n",
       "      <td>9</td>\n",
       "      <td>2</td>\n",
       "      <td>1937.280647</td>\n",
       "      <td>1937.912474</td>\n",
       "      <td>-0.032614</td>\n",
       "    </tr>\n",
       "    <tr>\n",
       "      <th>19</th>\n",
       "      <td>10</td>\n",
       "      <td>2</td>\n",
       "      <td>1050.109708</td>\n",
       "      <td>1049.757159</td>\n",
       "      <td>0.033573</td>\n",
       "    </tr>\n",
       "    <tr>\n",
       "      <th>21</th>\n",
       "      <td>11</td>\n",
       "      <td>2</td>\n",
       "      <td>3199.424721</td>\n",
       "      <td>3199.726127</td>\n",
       "      <td>-0.009421</td>\n",
       "    </tr>\n",
       "  </tbody>\n",
       "</table>\n",
       "</div>"
      ],
      "text/plain": [
       "    Element  Local Node  Tensile Force (lisa)  Tensile Force (Software)  \\\n",
       "1         1           2          -6484.003965              -6484.321659   \n",
       "3         2           2           -765.752289               -766.073355   \n",
       "5         3           2           1899.385942               1899.650543   \n",
       "7         4           2          -4555.469151              -4555.729825   \n",
       "9         5           2            765.566360                766.034483   \n",
       "11        6           2          -3828.695676              -3828.986981   \n",
       "13        7           2          -1937.534761              -1937.985219   \n",
       "15        8           2          -3577.160403              -3577.402565   \n",
       "17        9           2           1937.280647               1937.912474   \n",
       "19       10           2           1050.109708               1049.757159   \n",
       "21       11           2           3199.424721               3199.726127   \n",
       "\n",
       "    Effective difference %  \n",
       "1                -0.004900  \n",
       "3                -0.041928  \n",
       "5                -0.013931  \n",
       "7                -0.005722  \n",
       "9                -0.061147  \n",
       "11               -0.007608  \n",
       "13               -0.023249  \n",
       "15               -0.006770  \n",
       "17               -0.032614  \n",
       "19                0.033573  \n",
       "21               -0.009421  "
      ]
     },
     "execution_count": 47,
     "metadata": {},
     "output_type": "execute_result"
    }
   ],
   "source": [
    "m = pd.read_csv(\"lisa_files/elements_comparison.csv\")\n",
    "m = m.drop([\"Displacement in X\",\"Displacement in Y\"],axis=1)\n",
    "m = m.drop([x for x in range(len(m)) if x %2 ==0])\n",
    "m.columns = [\"Element\",\"Local Node\",\"Tensile Force (lisa)\"]\n",
    "soft = [-6484.321659132044, -766.0733549836069,1899.6505433420268, -4555.729825338075,766.0344831882051, -3828.9869806778497, -1937.9852185021864,\n",
    "-3577.4025651907377,   1937.912473576097, 1049.7571589925137, 3199.7261274594425]\n",
    "m[\"Tensile Force (Software)\"] = soft\n",
    "m['Effective difference %'] = 100*(m[\"Tensile Force (lisa)\"] -  m[\"Tensile Force (Software)\"])/m[\"Tensile Force (lisa)\"]\n",
    "m"
   ]
  },
  {
   "cell_type": "markdown",
   "metadata": {},
   "source": [
    "# Effective difference between results"
   ]
  },
  {
   "cell_type": "code",
   "execution_count": 53,
   "metadata": {},
   "outputs": [
    {
     "data": {
      "text/plain": [
       "-0.01579250743637939"
      ]
     },
     "execution_count": 53,
     "metadata": {},
     "output_type": "execute_result"
    }
   ],
   "source": [
    "m['Effective difference %'].mean() \n"
   ]
  },
  {
   "cell_type": "code",
   "execution_count": 54,
   "metadata": {},
   "outputs": [
    {
     "data": {
      "text/plain": [
       "-0.009457616507650122"
      ]
     },
     "execution_count": 54,
     "metadata": {},
     "output_type": "execute_result"
    }
   ],
   "source": [
    "x_values['Effective difference %'].mean()"
   ]
  },
  {
   "cell_type": "code",
   "execution_count": 55,
   "metadata": {},
   "outputs": [
    {
     "data": {
      "text/plain": [
       "-0.005441254294604593"
      ]
     },
     "execution_count": 55,
     "metadata": {},
     "output_type": "execute_result"
    }
   ],
   "source": [
    "y_values['Effective difference %'].mean()"
   ]
  }
 ],
 "metadata": {
  "kernelspec": {
   "display_name": "Python 3.10.6 64-bit",
   "language": "python",
   "name": "python3"
  },
  "language_info": {
   "codemirror_mode": {
    "name": "ipython",
    "version": 3
   },
   "file_extension": ".py",
   "mimetype": "text/x-python",
   "name": "python",
   "nbconvert_exporter": "python",
   "pygments_lexer": "ipython3",
   "version": "3.10.6"
  },
  "orig_nbformat": 4,
  "vscode": {
   "interpreter": {
    "hash": "916dbcbb3f70747c44a77c7bcd40155683ae19c65e1c03b4aa3499c5328201f1"
   }
  }
 },
 "nbformat": 4,
 "nbformat_minor": 2
}
