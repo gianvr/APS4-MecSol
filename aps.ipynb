{
  "cells": [
    {
      "cell_type": "code",
      "execution_count": 2,
      "metadata": {
        "id": "HiHykeCJV-Uf"
      },
      "outputs": [],
      "source": [
        "import numpy as np\n",
        "import xlrd\n",
        "import matplotlib as mpl\n",
        "import matplotlib.pyplot as plt"
      ]
    },
    {
      "cell_type": "code",
      "source": [
        "from google.colab import files \n",
        "uploaded = files.upload()\n"
      ],
      "metadata": {
        "colab": {
          "base_uri": "https://localhost:8080/",
          "height": 73
        },
        "id": "w0blrxhGW3xw",
        "outputId": "6abe818e-e6a6-46e8-85f2-7da407273c8e"
      },
      "execution_count": 3,
      "outputs": [
        {
          "output_type": "display_data",
          "data": {
            "text/plain": [
              "<IPython.core.display.HTML object>"
            ],
            "text/html": [
              "\n",
              "     <input type=\"file\" id=\"files-d7913fe1-dfad-44d2-b942-b67f1be2b5ba\" name=\"files[]\" multiple disabled\n",
              "        style=\"border:none\" />\n",
              "     <output id=\"result-d7913fe1-dfad-44d2-b942-b67f1be2b5ba\">\n",
              "      Upload widget is only available when the cell has been executed in the\n",
              "      current browser session. Please rerun this cell to enable.\n",
              "      </output>\n",
              "      <script>// Copyright 2017 Google LLC\n",
              "//\n",
              "// Licensed under the Apache License, Version 2.0 (the \"License\");\n",
              "// you may not use this file except in compliance with the License.\n",
              "// You may obtain a copy of the License at\n",
              "//\n",
              "//      http://www.apache.org/licenses/LICENSE-2.0\n",
              "//\n",
              "// Unless required by applicable law or agreed to in writing, software\n",
              "// distributed under the License is distributed on an \"AS IS\" BASIS,\n",
              "// WITHOUT WARRANTIES OR CONDITIONS OF ANY KIND, either express or implied.\n",
              "// See the License for the specific language governing permissions and\n",
              "// limitations under the License.\n",
              "\n",
              "/**\n",
              " * @fileoverview Helpers for google.colab Python module.\n",
              " */\n",
              "(function(scope) {\n",
              "function span(text, styleAttributes = {}) {\n",
              "  const element = document.createElement('span');\n",
              "  element.textContent = text;\n",
              "  for (const key of Object.keys(styleAttributes)) {\n",
              "    element.style[key] = styleAttributes[key];\n",
              "  }\n",
              "  return element;\n",
              "}\n",
              "\n",
              "// Max number of bytes which will be uploaded at a time.\n",
              "const MAX_PAYLOAD_SIZE = 100 * 1024;\n",
              "\n",
              "function _uploadFiles(inputId, outputId) {\n",
              "  const steps = uploadFilesStep(inputId, outputId);\n",
              "  const outputElement = document.getElementById(outputId);\n",
              "  // Cache steps on the outputElement to make it available for the next call\n",
              "  // to uploadFilesContinue from Python.\n",
              "  outputElement.steps = steps;\n",
              "\n",
              "  return _uploadFilesContinue(outputId);\n",
              "}\n",
              "\n",
              "// This is roughly an async generator (not supported in the browser yet),\n",
              "// where there are multiple asynchronous steps and the Python side is going\n",
              "// to poll for completion of each step.\n",
              "// This uses a Promise to block the python side on completion of each step,\n",
              "// then passes the result of the previous step as the input to the next step.\n",
              "function _uploadFilesContinue(outputId) {\n",
              "  const outputElement = document.getElementById(outputId);\n",
              "  const steps = outputElement.steps;\n",
              "\n",
              "  const next = steps.next(outputElement.lastPromiseValue);\n",
              "  return Promise.resolve(next.value.promise).then((value) => {\n",
              "    // Cache the last promise value to make it available to the next\n",
              "    // step of the generator.\n",
              "    outputElement.lastPromiseValue = value;\n",
              "    return next.value.response;\n",
              "  });\n",
              "}\n",
              "\n",
              "/**\n",
              " * Generator function which is called between each async step of the upload\n",
              " * process.\n",
              " * @param {string} inputId Element ID of the input file picker element.\n",
              " * @param {string} outputId Element ID of the output display.\n",
              " * @return {!Iterable<!Object>} Iterable of next steps.\n",
              " */\n",
              "function* uploadFilesStep(inputId, outputId) {\n",
              "  const inputElement = document.getElementById(inputId);\n",
              "  inputElement.disabled = false;\n",
              "\n",
              "  const outputElement = document.getElementById(outputId);\n",
              "  outputElement.innerHTML = '';\n",
              "\n",
              "  const pickedPromise = new Promise((resolve) => {\n",
              "    inputElement.addEventListener('change', (e) => {\n",
              "      resolve(e.target.files);\n",
              "    });\n",
              "  });\n",
              "\n",
              "  const cancel = document.createElement('button');\n",
              "  inputElement.parentElement.appendChild(cancel);\n",
              "  cancel.textContent = 'Cancel upload';\n",
              "  const cancelPromise = new Promise((resolve) => {\n",
              "    cancel.onclick = () => {\n",
              "      resolve(null);\n",
              "    };\n",
              "  });\n",
              "\n",
              "  // Wait for the user to pick the files.\n",
              "  const files = yield {\n",
              "    promise: Promise.race([pickedPromise, cancelPromise]),\n",
              "    response: {\n",
              "      action: 'starting',\n",
              "    }\n",
              "  };\n",
              "\n",
              "  cancel.remove();\n",
              "\n",
              "  // Disable the input element since further picks are not allowed.\n",
              "  inputElement.disabled = true;\n",
              "\n",
              "  if (!files) {\n",
              "    return {\n",
              "      response: {\n",
              "        action: 'complete',\n",
              "      }\n",
              "    };\n",
              "  }\n",
              "\n",
              "  for (const file of files) {\n",
              "    const li = document.createElement('li');\n",
              "    li.append(span(file.name, {fontWeight: 'bold'}));\n",
              "    li.append(span(\n",
              "        `(${file.type || 'n/a'}) - ${file.size} bytes, ` +\n",
              "        `last modified: ${\n",
              "            file.lastModifiedDate ? file.lastModifiedDate.toLocaleDateString() :\n",
              "                                    'n/a'} - `));\n",
              "    const percent = span('0% done');\n",
              "    li.appendChild(percent);\n",
              "\n",
              "    outputElement.appendChild(li);\n",
              "\n",
              "    const fileDataPromise = new Promise((resolve) => {\n",
              "      const reader = new FileReader();\n",
              "      reader.onload = (e) => {\n",
              "        resolve(e.target.result);\n",
              "      };\n",
              "      reader.readAsArrayBuffer(file);\n",
              "    });\n",
              "    // Wait for the data to be ready.\n",
              "    let fileData = yield {\n",
              "      promise: fileDataPromise,\n",
              "      response: {\n",
              "        action: 'continue',\n",
              "      }\n",
              "    };\n",
              "\n",
              "    // Use a chunked sending to avoid message size limits. See b/62115660.\n",
              "    let position = 0;\n",
              "    do {\n",
              "      const length = Math.min(fileData.byteLength - position, MAX_PAYLOAD_SIZE);\n",
              "      const chunk = new Uint8Array(fileData, position, length);\n",
              "      position += length;\n",
              "\n",
              "      const base64 = btoa(String.fromCharCode.apply(null, chunk));\n",
              "      yield {\n",
              "        response: {\n",
              "          action: 'append',\n",
              "          file: file.name,\n",
              "          data: base64,\n",
              "        },\n",
              "      };\n",
              "\n",
              "      let percentDone = fileData.byteLength === 0 ?\n",
              "          100 :\n",
              "          Math.round((position / fileData.byteLength) * 100);\n",
              "      percent.textContent = `${percentDone}% done`;\n",
              "\n",
              "    } while (position < fileData.byteLength);\n",
              "  }\n",
              "\n",
              "  // All done.\n",
              "  yield {\n",
              "    response: {\n",
              "      action: 'complete',\n",
              "    }\n",
              "  };\n",
              "}\n",
              "\n",
              "scope.google = scope.google || {};\n",
              "scope.google.colab = scope.google.colab || {};\n",
              "scope.google.colab._files = {\n",
              "  _uploadFiles,\n",
              "  _uploadFilesContinue,\n",
              "};\n",
              "})(self);\n",
              "</script> "
            ]
          },
          "metadata": {}
        },
        {
          "output_type": "stream",
          "name": "stdout",
          "text": [
            "Saving entrada.xlsx to entrada.xlsx\n"
          ]
        }
      ]
    },
    {
      "cell_type": "markdown",
      "metadata": {
        "id": "-srgIf7qV-Uk"
      },
      "source": [
        "A funcao 'plota' produz um gráfico da estrutura definida pela matriz de nos N \n",
        "e pela incidencia Inc.\n",
        "\n",
        "Sugestao de uso:\n",
        "\n",
        "from funcoesTermosol import plota\n",
        "plota(N,Inc)\n",
        "-------------------------------------------------------------------------------\n",
        "A funcao 'importa' retorna o numero de nos [nn], a matriz dos nos [N], o numero\n",
        "de membros [nm], a matriz de incidencia [Inc], o numero de cargas [nc], o vetor\n",
        "carregamento [F], o numero de restricoes [nr] e o vetor de restricoes [R] \n",
        "contidos no arquivo de entrada.\n",
        "\n",
        "Sugestao de uso:\n",
        "    \n",
        "from funcoesTermosol import importa\n",
        "[nn,N,nm,Inc,nc,F,nr,R] = importa('entrada.xlsx')\n",
        "-------------------------------------------------------------------------------\n",
        "A funcao 'geraSaida' cria um arquivo nome.txt contendo as reacoes de apoio Ft, \n",
        "deslocamentos Ut, deformacoes Epsi, forcas Fi e tensoes Ti internas. \n",
        "As entradas devem ser vetores coluna.\n",
        "\n",
        "Sugestao de uso:\n",
        "    \n",
        "from funcoesTermosol import geraSaida\n",
        "geraSaida(nome,Ft,Ut,Epsi,Fi,Ti)\n",
        "-------------------------------------------------------------------------------\n",
        "\n"
      ]
    },
    {
      "cell_type": "code",
      "execution_count": 4,
      "metadata": {
        "id": "eAH9U5iaV-Up"
      },
      "outputs": [],
      "source": [
        "def plota(N,Inc):\n",
        "    # Numero de membros\n",
        "    nm = len(Inc[:,0])\n",
        "    \n",
        "    import matplotlib as mpl\n",
        "    import matplotlib.pyplot as plt\n",
        "\n",
        "#    plt.show()\n",
        "    fig = plt.figure()\n",
        "    # Passa por todos os membros\n",
        "    for i in range(nm):\n",
        "        \n",
        "        # encontra no inicial [n1] e final [n2] \n",
        "        n1 = int(Inc[i,0])\n",
        "        n2 = int(Inc[i,1])        \n",
        "\n",
        "        plt.plot([N[0,n1-1],N[0,n2-1]],[N[1,n1-1],N[1,n2-1]],color='r',linewidth=3)\n",
        "\n",
        "\n",
        "    plt.xlabel('x [m]')\n",
        "    plt.ylabel('y [m]')\n",
        "    plt.grid(True)\n",
        "    plt.axis('equal')\n",
        "    plt.show()"
      ]
    },
    {
      "cell_type": "code",
      "execution_count": 5,
      "metadata": {
        "id": "M8PpXhGlV-Ur"
      },
      "outputs": [],
      "source": [
        "def importa(entradaNome):\n",
        "\n",
        "    \n",
        "    arquivo = xlrd.open_workbook(entradaNome)\n",
        "    \n",
        "    ################################################## Ler os nos\n",
        "    nos = arquivo.sheet_by_name('Nos')\n",
        "    \n",
        "    # Numero de nos\n",
        "    nn = int(nos.cell(1,3).value)\n",
        "                 \n",
        "    # Matriz dos nós\n",
        "    N = np.zeros((2,nn))\n",
        "    \n",
        "    for c in range(nn):\n",
        "        N[0,c] = nos.cell(c+1,0).value\n",
        "        N[1,c] = nos.cell(c+1,1).value\n",
        "    \n",
        "    ################################################## Ler a incidencia\n",
        "    incid = arquivo.sheet_by_name('Incidencia')\n",
        "    \n",
        "    # Numero de membros\n",
        "    nm = int(incid.cell(1,5).value)\n",
        "                 \n",
        "    # Matriz de incidencia\n",
        "    Inc = np.zeros((nm,4))\n",
        "    \n",
        "    for c in range(nm):\n",
        "        Inc[c,0] = int(incid.cell(c+1,0).value)\n",
        "        Inc[c,1] = int(incid.cell(c+1,1).value)\n",
        "        Inc[c,2] = incid.cell(c+1,2).value\n",
        "        Inc[c,3] = incid.cell(c+1,3).value\n",
        "    \n",
        "    ################################################## Ler as cargas\n",
        "    carg = arquivo.sheet_by_name('Carregamento')\n",
        "    \n",
        "    # Numero de cargas\n",
        "    nc = int(carg.cell(1,4).value)\n",
        "                 \n",
        "    # Vetor carregamento\n",
        "    F = np.zeros((nn*2,1))\n",
        "    \n",
        "    for c in range(nc):\n",
        "        no = carg.cell(c+1,0).value\n",
        "        xouy = carg.cell(c+1,1).value\n",
        "        GDL = int(no*2-(2-xouy)) \n",
        "        F[GDL-1,0] = carg.cell(c+1,2).value\n",
        "         \n",
        "    ################################################## Ler restricoes\n",
        "    restr = arquivo.sheet_by_name('Restricao')\n",
        "    \n",
        "    # Numero de restricoes\n",
        "    nr = int(restr.cell(1,3).value)\n",
        "                 \n",
        "    # Vetor com os graus de liberdade restritos\n",
        "    R = np.zeros((nr,1))\n",
        "    \n",
        "    for c in range(nr):\n",
        "        no = restr.cell(c+1,0).value\n",
        "        xouy = restr.cell(c+1,1).value\n",
        "        GDL = no*2-(2-xouy) \n",
        "        R[c,0] = GDL-1\n",
        "\n",
        "\n",
        "    return nn,N,nm,Inc,nc,F,nr,R\n"
      ]
    },
    {
      "cell_type": "code",
      "execution_count": 18,
      "metadata": {
        "id": "tMCQZZs4V-Uu"
      },
      "outputs": [],
      "source": [
        "def geraSaida(nome,Ft,Ut,Epsi,Fi,Ti):\n",
        "    nome = nome + '.txt'\n",
        "    f = open(\"saida.txt\",\"w+\")\n",
        "    f.write('Reacoes de apoio [N]\\n')\n",
        "    f.write(str(Ft))\n",
        "    f.write('\\n\\nDeslocamentos [m]\\n')\n",
        "    f.write(str(Ut))\n",
        "    f.write('\\n\\nDeformacoes []\\n')\n",
        "    f.write(str(Epsi))\n",
        "    f.write('\\n\\nForcas internas [N]\\n')\n",
        "    f.write(str(Fi))\n",
        "    f.write('\\n\\nTensoes internas [Pa]\\n')\n",
        "    f.write(str(Ti))\n",
        "    f.close()"
      ]
    },
    {
      "cell_type": "code",
      "source": [
        "nn,N,nm,Inc,nc,F,nr,R = importa('entrada.xlsx')\n",
        "plota(N,Inc)"
      ],
      "metadata": {
        "colab": {
          "base_uri": "https://localhost:8080/",
          "height": 279
        },
        "id": "eNv-2eY0XHSq",
        "outputId": "916bc127-6fdc-4501-fdb5-e85247934446"
      },
      "execution_count": 19,
      "outputs": [
        {
          "output_type": "display_data",
          "data": {
            "text/plain": [
              "<Figure size 432x288 with 1 Axes>"
            ],
            "image/png": "[encoded data removed]"
          },
          "metadata": {
            "needs_background": "light"
          }
        }
      ]
    },
    {
      "cell_type": "code",
      "source": [
        "importa('entrada.xlsx')"
      ],
      "metadata": {
        "colab": {
          "base_uri": "https://localhost:8080/"
        },
        "id": "y5wMf3cpXN_w",
        "outputId": "31d9c62b-3fd4-4dd4-9ff8-84747fe0cd96"
      },
      "execution_count": 20,
      "outputs": [
        {
          "output_type": "execute_result",
          "data": {
            "text/plain": [
              "(3, array([[0. , 0. , 0.3],\n",
              "        [0. , 0.4, 0.4]]), 3, array([[1.0e+00, 2.0e+00, 2.1e+11, 2.0e-04],\n",
              "        [2.0e+00, 3.0e+00, 2.1e+11, 2.0e-04],\n",
              "        [3.0e+00, 1.0e+00, 2.1e+11, 2.0e-04]]), 2, array([[   0.],\n",
              "        [   0.],\n",
              "        [   0.],\n",
              "        [   0.],\n",
              "        [ 150.],\n",
              "        [-100.]]), 3, array([[0.],\n",
              "        [2.],\n",
              "        [3.]]))"
            ]
          },
          "metadata": {},
          "execution_count": 20
        }
      ]
    },
    {
      "cell_type": "code",
      "source": [
        "N_1 = np.transpose(N)\n",
        "def get_angles_lenghts(N):\n",
        "  angs = np.zeros((len(N[:,0]),len(N[0,:])))\n",
        "  Ls = []\n",
        "  for i in range(len(N[:,0])):\n",
        "    if i < len(N[:,0]) -1:\n",
        "      L = np.sqrt((N[i+1,0]-N[i,0])**2 +(N[i+1,1]-N[i,1])**2)\n",
        "      Ls.append(L)\n",
        "      angs[i,0] = (N[i+1,0]-N[i,0])/L\n",
        "      angs[i,1] = (N[i+1,1]-N[i,1])/L\n",
        "    else:\n",
        "      L = np.sqrt((N[0,0]-N[i,0])**2 +(N[0,1]-N[i,1])**2)\n",
        "      Ls.append(L)\n",
        "      angs[i,0] = (N[0,0]-N[i,0])/L\n",
        "      angs[i,1] = (N[0,1]-N[i,1])/L\n",
        "  return Ls,angs\n",
        "Ls,angs = get_angles_lenghts(N_1)"
      ],
      "metadata": {
        "id": "78tdPgHCbN_b"
      },
      "execution_count": 21,
      "outputs": []
    },
    {
      "cell_type": "code",
      "source": [
        "def fill_matrix(E,A,l,c,s):\n",
        "  M = E*A/l * np.array([[c**2,c*s,-c**2,-c*s],\n",
        "                [c*s,s**2,-c*s,-s**2],\n",
        "                [-c**2,-c*s,c**2,c*s],\n",
        "                [-c*s,-s**2,c*s,s**2]])\n",
        "  return M"
      ],
      "metadata": {
        "id": "bc7wo-kH2DhS"
      },
      "execution_count": 22,
      "outputs": []
    },
    {
      "cell_type": "code",
      "source": [
        "def get_matriz_elemento(N):\n",
        "  lista = []\n",
        "  for i in range(len(N[:,0])):\n",
        "    k = np.zeros((4,4))\n",
        "    c = angs[i,0]\n",
        "    s = angs[i,1]\n",
        "    M = fill_matrix(Inc[i,2],Inc[i,3],Ls[i],c,s)\n",
        "    lista.append(M)\n",
        "  return lista"
      ],
      "metadata": {
        "id": "M3t0gkethJ4f"
      },
      "execution_count": 23,
      "outputs": []
    },
    {
      "cell_type": "code",
      "source": [
        "def get_matriz_global(N,lista):\n",
        "  matriz_global = np.zeros((2*len(N[:,0]),2*len(N[:,0])))\n",
        "  for i in range(len(N[:,0])):\n",
        "      if i == len(N[:,0]) -1:\n",
        "        N1 = int(Inc[i,0])\n",
        "        N2= int(Inc[0,0])\n",
        "      else:\n",
        "        N1 = int(Inc[i,0])\n",
        "        N2= int(Inc[i+1,0])\n",
        "        \n",
        "      grau1 = 2*N1 - 1\n",
        "      grau2 = 2*N1 \n",
        "      grau3 = 2*N2 - 1\n",
        "      grau4 = 2*N2\n",
        "\n",
        "      matriz_global[grau1-1:grau2, grau1-1:grau2] += lista[i][0:2, 0:2]\n",
        "      matriz_global[grau3-1:grau4, grau1-1:grau2] += lista[i][2:4, 0:2]\n",
        "      matriz_global[grau1-1:grau2, grau3-1:grau4] += lista[i][0:2, 2:4]\n",
        "      matriz_global[grau3-1:grau4, grau3-1:grau4] += lista[i][2:4, 2:4]\n",
        "  return matriz_global"
      ],
      "metadata": {
        "id": "W5TvDSSkpqhv"
      },
      "execution_count": 24,
      "outputs": []
    },
    {
      "cell_type": "code",
      "source": [
        "N_1 = np.transpose(N)\n",
        "Ls,angs = get_angles_lenghts(N_1)\n",
        "get_matriz_global(N_1,get_matriz_elemento(N_1))"
      ],
      "metadata": {
        "colab": {
          "base_uri": "https://localhost:8080/"
        },
        "id": "hKxkJORt-eMi",
        "outputId": "5015d44b-653f-4fe5-d068-d0911e57962f"
      },
      "execution_count": 25,
      "outputs": [
        {
          "output_type": "execute_result",
          "data": {
            "text/plain": [
              "array([[ 3.0240e+07,  4.0320e+07,  0.0000e+00,  0.0000e+00, -3.0240e+07,\n",
              "        -4.0320e+07],\n",
              "       [ 4.0320e+07,  1.5876e+08,  0.0000e+00, -1.0500e+08, -4.0320e+07,\n",
              "        -5.3760e+07],\n",
              "       [ 0.0000e+00,  0.0000e+00,  1.4000e+08,  0.0000e+00, -1.4000e+08,\n",
              "         0.0000e+00],\n",
              "       [ 0.0000e+00, -1.0500e+08,  0.0000e+00,  1.0500e+08,  0.0000e+00,\n",
              "         0.0000e+00],\n",
              "       [-3.0240e+07, -4.0320e+07, -1.4000e+08,  0.0000e+00,  1.7024e+08,\n",
              "         4.0320e+07],\n",
              "       [-4.0320e+07, -5.3760e+07,  0.0000e+00,  0.0000e+00,  4.0320e+07,\n",
              "         5.3760e+07]])"
            ]
          },
          "metadata": {},
          "execution_count": 25
        }
      ]
    }
  ],
  "metadata": {
    "kernelspec": {
      "display_name": "Python 3.10.7 ('env': venv)",
      "language": "python",
      "name": "python3"
    },
    "language_info": {
      "codemirror_mode": {
        "name": "ipython",
        "version": 3
      },
      "file_extension": ".py",
      "mimetype": "text/x-python",
      "name": "python",
      "nbconvert_exporter": "python",
      "pygments_lexer": "ipython3",
      "version": "3.10.7"
    },
    "orig_nbformat": 4,
    "vscode": {
      "interpreter": {
        "hash": "b366e0ec490b23ae34ae0d8c1bced139499654142a33d687a3003322b7e3e0de"
      }
    },
    "colab": {
      "provenance": []
    }
  },
  "nbformat": 4,
  "nbformat_minor": 0
}